{
 "cells": [
  {
   "cell_type": "code",
   "execution_count": 1,
   "metadata": {},
   "outputs": [],
   "source": [
    "%matplotlib widget\n",
    "import torch\n",
    "import torch.nn as nn\n",
    "import torch.optim as optim\n",
    "from torch.utils.data import DataLoader, TensorDataset\n",
    "import numpy as np\n",
    "import pandas as pd\n",
    "import matplotlib.pyplot as plt\n",
    "from sklearn.metrics import accuracy_score, classification_report, confusion_matrix\n",
    "from tqdm import tqdm\n",
    "from models import Net_4_layers_v1 as CurrentModel"
   ]
  },
  {
   "cell_type": "markdown",
   "metadata": {},
   "source": [
    "Import data."
   ]
  },
  {
   "cell_type": "code",
   "execution_count": 2,
   "metadata": {},
   "outputs": [],
   "source": [
    "data_a = np.load(\"../data/dataset_all_H1_bootstrap_O3a.npy\")\n",
    "data_b = np.load(\"../data/dataset_all_H1_bootstrap_O3b.npy\")\n",
    "data_total = np.vstack([data_a, data_b])"
   ]
  },
  {
   "cell_type": "markdown",
   "metadata": {},
   "source": [
    "Refering data."
   ]
  },
  {
   "cell_type": "code",
   "execution_count": 3,
   "metadata": {},
   "outputs": [
    {
     "data": {
      "text/html": [
       "<div>\n",
       "<style scoped>\n",
       "    .dataframe tbody tr th:only-of-type {\n",
       "        vertical-align: middle;\n",
       "    }\n",
       "\n",
       "    .dataframe tbody tr th {\n",
       "        vertical-align: top;\n",
       "    }\n",
       "\n",
       "    .dataframe thead th {\n",
       "        text-align: right;\n",
       "    }\n",
       "</style>\n",
       "<table border=\"1\" class=\"dataframe\">\n",
       "  <thead>\n",
       "    <tr style=\"text-align: right;\">\n",
       "      <th></th>\n",
       "      <th>0</th>\n",
       "      <th>1</th>\n",
       "      <th>2</th>\n",
       "      <th>3</th>\n",
       "      <th>4</th>\n",
       "      <th>5</th>\n",
       "      <th>6</th>\n",
       "    </tr>\n",
       "  </thead>\n",
       "  <tbody>\n",
       "    <tr>\n",
       "      <th>0</th>\n",
       "      <td>9.254420</td>\n",
       "      <td>7.831950</td>\n",
       "      <td>385.520985</td>\n",
       "      <td>43.551575</td>\n",
       "      <td>0.170024</td>\n",
       "      <td>-0.226553</td>\n",
       "      <td>3.0</td>\n",
       "    </tr>\n",
       "    <tr>\n",
       "      <th>1</th>\n",
       "      <td>4.918122</td>\n",
       "      <td>1.049978</td>\n",
       "      <td>244.809516</td>\n",
       "      <td>79.182049</td>\n",
       "      <td>0.563761</td>\n",
       "      <td>0.184612</td>\n",
       "      <td>0.0</td>\n",
       "    </tr>\n",
       "    <tr>\n",
       "      <th>2</th>\n",
       "      <td>5.831387</td>\n",
       "      <td>1.394088</td>\n",
       "      <td>105.503126</td>\n",
       "      <td>11.895160</td>\n",
       "      <td>-0.499879</td>\n",
       "      <td>0.283521</td>\n",
       "      <td>0.0</td>\n",
       "    </tr>\n",
       "    <tr>\n",
       "      <th>3</th>\n",
       "      <td>5.171994</td>\n",
       "      <td>1.100152</td>\n",
       "      <td>72.932770</td>\n",
       "      <td>11.926752</td>\n",
       "      <td>0.750677</td>\n",
       "      <td>-0.290788</td>\n",
       "      <td>3.0</td>\n",
       "    </tr>\n",
       "    <tr>\n",
       "      <th>4</th>\n",
       "      <td>5.270617</td>\n",
       "      <td>1.455858</td>\n",
       "      <td>73.913381</td>\n",
       "      <td>16.359395</td>\n",
       "      <td>0.543106</td>\n",
       "      <td>-0.148996</td>\n",
       "      <td>0.0</td>\n",
       "    </tr>\n",
       "    <tr>\n",
       "      <th>...</th>\n",
       "      <td>...</td>\n",
       "      <td>...</td>\n",
       "      <td>...</td>\n",
       "      <td>...</td>\n",
       "      <td>...</td>\n",
       "      <td>...</td>\n",
       "      <td>...</td>\n",
       "    </tr>\n",
       "    <tr>\n",
       "      <th>75595</th>\n",
       "      <td>23.099025</td>\n",
       "      <td>39.565564</td>\n",
       "      <td>91.711134</td>\n",
       "      <td>9.598615</td>\n",
       "      <td>-0.543590</td>\n",
       "      <td>0.430138</td>\n",
       "      <td>4.0</td>\n",
       "    </tr>\n",
       "    <tr>\n",
       "      <th>75596</th>\n",
       "      <td>18.977332</td>\n",
       "      <td>26.400047</td>\n",
       "      <td>167.938280</td>\n",
       "      <td>36.568601</td>\n",
       "      <td>-0.208704</td>\n",
       "      <td>0.199369</td>\n",
       "      <td>2.0</td>\n",
       "    </tr>\n",
       "    <tr>\n",
       "      <th>75597</th>\n",
       "      <td>45.583568</td>\n",
       "      <td>58.212200</td>\n",
       "      <td>64.404370</td>\n",
       "      <td>34.368289</td>\n",
       "      <td>-0.255531</td>\n",
       "      <td>-0.479915</td>\n",
       "      <td>1.0</td>\n",
       "    </tr>\n",
       "    <tr>\n",
       "      <th>75598</th>\n",
       "      <td>4.319583</td>\n",
       "      <td>0.991927</td>\n",
       "      <td>92.770109</td>\n",
       "      <td>17.860022</td>\n",
       "      <td>-0.136445</td>\n",
       "      <td>0.002160</td>\n",
       "      <td>0.0</td>\n",
       "    </tr>\n",
       "    <tr>\n",
       "      <th>75599</th>\n",
       "      <td>28.724328</td>\n",
       "      <td>68.844743</td>\n",
       "      <td>99.497632</td>\n",
       "      <td>16.704264</td>\n",
       "      <td>-0.258875</td>\n",
       "      <td>0.265112</td>\n",
       "      <td>2.0</td>\n",
       "    </tr>\n",
       "  </tbody>\n",
       "</table>\n",
       "<p>75600 rows × 7 columns</p>\n",
       "</div>"
      ],
      "text/plain": [
       "               0          1           2          3         4         5    6\n",
       "0       9.254420   7.831950  385.520985  43.551575  0.170024 -0.226553  3.0\n",
       "1       4.918122   1.049978  244.809516  79.182049  0.563761  0.184612  0.0\n",
       "2       5.831387   1.394088  105.503126  11.895160 -0.499879  0.283521  0.0\n",
       "3       5.171994   1.100152   72.932770  11.926752  0.750677 -0.290788  3.0\n",
       "4       5.270617   1.455858   73.913381  16.359395  0.543106 -0.148996  0.0\n",
       "...          ...        ...         ...        ...       ...       ...  ...\n",
       "75595  23.099025  39.565564   91.711134   9.598615 -0.543590  0.430138  4.0\n",
       "75596  18.977332  26.400047  167.938280  36.568601 -0.208704  0.199369  2.0\n",
       "75597  45.583568  58.212200   64.404370  34.368289 -0.255531 -0.479915  1.0\n",
       "75598   4.319583   0.991927   92.770109  17.860022 -0.136445  0.002160  0.0\n",
       "75599  28.724328  68.844743   99.497632  16.704264 -0.258875  0.265112  2.0\n",
       "\n",
       "[75600 rows x 7 columns]"
      ]
     },
     "execution_count": 3,
     "metadata": {},
     "output_type": "execute_result"
    }
   ],
   "source": [
    "pd.DataFrame(data_total)"
   ]
  },
  {
   "cell_type": "markdown",
   "metadata": {},
   "source": [
    "Divide data into training set, validating set and testing set."
   ]
  },
  {
   "cell_type": "code",
   "execution_count": 4,
   "metadata": {},
   "outputs": [],
   "source": [
    "data_length = len(data_total)\n",
    "\n",
    "training_set_length = int(data_length * 0.7)\n",
    "validating_set_length = int(data_length * 0.2)\n",
    "testing_set_length = data_length - training_set_length - validating_set_length\n",
    "\n",
    "training_set = data_total[0:training_set_length, :]\n",
    "validating_set = data_total[training_set_length:training_set_length + validating_set_length, :]\n",
    "testing_set = data_total[training_set_length + validating_set_length:, :]"
   ]
  },
  {
   "cell_type": "markdown",
   "metadata": {},
   "source": [
    "Determine the device."
   ]
  },
  {
   "cell_type": "code",
   "execution_count": 5,
   "metadata": {},
   "outputs": [],
   "source": [
    "device = torch.device(\"cuda\" if torch.cuda.is_available() else \"cpu\")"
   ]
  },
  {
   "cell_type": "markdown",
   "metadata": {},
   "source": [
    "Make the data suitable to pytorch."
   ]
  },
  {
   "cell_type": "code",
   "execution_count": 6,
   "metadata": {},
   "outputs": [],
   "source": [
    "input_tensor_training = torch.tensor(training_set[:, 0:6], dtype=torch.float32).to(device)\n",
    "label_tensor_training = torch.tensor(training_set[:, 6], dtype=torch.int64).to(device)\n",
    "\n",
    "input_tensor_validating = torch.tensor(validating_set[:, 0:6], dtype=torch.float32).to(device)\n",
    "label_tensor_validating = torch.tensor(validating_set[:, 6], dtype=torch.int64).to(device)\n",
    "\n",
    "input_tensor_testing = torch.tensor(testing_set[:, 0:6], dtype=torch.float32).to(device)\n",
    "label_tensor_testing = torch.tensor(testing_set[:, 6], dtype=torch.int64).to(device)\n",
    "\n",
    "dataset_training = TensorDataset(input_tensor_training, label_tensor_training)\n",
    "dataset_validating = TensorDataset(input_tensor_validating, label_tensor_validating)\n",
    "dataset_testing = TensorDataset(input_tensor_testing, label_tensor_testing)\n",
    "\n",
    "loader_training = DataLoader(dataset_training, batch_size=32, shuffle=True)\n",
    "loader_validating = DataLoader(dataset_validating, batch_size=32, shuffle=True)\n",
    "loader_testing = DataLoader(dataset_testing, batch_size=32, shuffle=True)"
   ]
  },
  {
   "cell_type": "markdown",
   "metadata": {},
   "source": [
    "Define the model, criterion and optimizer."
   ]
  },
  {
   "cell_type": "code",
   "execution_count": 7,
   "metadata": {},
   "outputs": [],
   "source": [
    "model = CurrentModel().to(device)\n",
    "criterion = nn.CrossEntropyLoss()\n",
    "optimizer = optim.Adam(model.parameters(), lr = 0.002)"
   ]
  },
  {
   "cell_type": "code",
   "execution_count": 8,
   "metadata": {},
   "outputs": [
    {
     "name": "stderr",
     "output_type": "stream",
     "text": [
      "Training ...:   0%|          | 0/1000 [00:00<?, ?it/s]"
     ]
    },
    {
     "name": "stderr",
     "output_type": "stream",
     "text": [
      "Training ...: 100%|██████████| 1000/1000 [22:29<00:00,  1.35s/it]\n"
     ]
    }
   ],
   "source": [
    "loss_average_list = []\n",
    "accuracy_average_list = []\n",
    "\n",
    "for epoch in tqdm(range(1000), desc=\"Training ...\"):\n",
    "    correct_predictions = 0\n",
    "    total_samples = 0\n",
    "    loss_array = []\n",
    "    for data in loader_training:\n",
    "        inputs, labels = data[0].to(device), data[1].to(device)\n",
    "        optimizer.zero_grad()\n",
    "        outputs = model(inputs)\n",
    "        loss = criterion(outputs, labels)\n",
    "        loss.backward()\n",
    "        optimizer.step()\n",
    "        loss_array.append(loss.item())\n",
    "        loss_average = sum(loss_array)/len(loss_array)\n",
    "        \n",
    "        _, predicted = torch.max(outputs, 1)\n",
    "        correct_predictions += (predicted == labels).sum().item()\n",
    "        total_samples += labels.size(0)\n",
    "        pass\n",
    "    loss_average_list.append(loss_average)\n",
    "    \n",
    "    accuracy_average = correct_predictions / total_samples\n",
    "    accuracy_average_list.append(accuracy_average)\n"
   ]
  },
  {
   "cell_type": "markdown",
   "metadata": {},
   "source": [
    "Plot the loss and average."
   ]
  },
  {
   "cell_type": "code",
   "execution_count": 9,
   "metadata": {},
   "outputs": [
    {
     "data": {
      "text/plain": [
       "[<matplotlib.lines.Line2D at 0x287a762d0>]"
      ]
     },
     "execution_count": 9,
     "metadata": {},
     "output_type": "execute_result"
    },
    {
     "data": {
      "application/vnd.jupyter.widget-view+json": {
       "model_id": "23f532713d8842faab470da47085491c",
       "version_major": 2,
       "version_minor": 0
      },
      "image/png": "[encoded data removed]",
      "text/html": [
       "\n",
       "            <div style=\"display: inline-block;\">\n",
       "                <div class=\"jupyter-widgets widget-label\" style=\"text-align: center;\">\n",
       "                    Figure\n",
       "                </div>\n",
       "                <img src='data:image/png;base64,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' width=640.0/>\n",
       "            </div>\n",
       "        "
      ],
      "text/plain": [
       "Canvas(toolbar=Toolbar(toolitems=[('Home', 'Reset original view', 'home', 'home'), ('Back', 'Back to previous …"
      ]
     },
     "metadata": {},
     "output_type": "display_data"
    }
   ],
   "source": [
    "fig, ax = plt.subplots()\n",
    "ax.plot(loss_average_list)\n",
    "ax.plot(accuracy_average_list)"
   ]
  },
  {
   "cell_type": "markdown",
   "metadata": {},
   "source": [
    "Judge the model."
   ]
  },
  {
   "cell_type": "code",
   "execution_count": 10,
   "metadata": {},
   "outputs": [],
   "source": [
    "model.eval()\n",
    "all_predictions = []\n",
    "all_labels = []"
   ]
  },
  {
   "cell_type": "code",
   "execution_count": 11,
   "metadata": {},
   "outputs": [],
   "source": [
    "with torch.no_grad():\n",
    "    for inputs, labels in loader_validating:\n",
    "        inputs, labels = inputs.to(device), labels.to(device)\n",
    "        outputs = model(inputs)\n",
    "        _, predicted = torch.max(outputs.data, 1)\n",
    "        all_predictions.extend(predicted.cpu().numpy())\n",
    "        all_labels.extend(labels.cpu().numpy())"
   ]
  },
  {
   "cell_type": "markdown",
   "metadata": {},
   "source": [
    "Calculate accuracy."
   ]
  },
  {
   "cell_type": "code",
   "execution_count": 12,
   "metadata": {},
   "outputs": [
    {
     "name": "stdout",
     "output_type": "stream",
     "text": [
      "Accuracy: 0.8662698412698413\n"
     ]
    }
   ],
   "source": [
    "accuracy = accuracy_score(all_labels, all_predictions)\n",
    "print(f\"Accuracy: {accuracy}\")"
   ]
  },
  {
   "cell_type": "code",
   "execution_count": 13,
   "metadata": {},
   "outputs": [
    {
     "name": "stdout",
     "output_type": "stream",
     "text": [
      "              precision    recall  f1-score   support\n",
      "\n",
      "           0       0.84      0.60      0.70      2194\n",
      "           1       0.90      0.94      0.92      2138\n",
      "           2       0.94      0.95      0.94      2177\n",
      "           3       0.65      0.86      0.74      2123\n",
      "           4       0.93      0.97      0.95      2126\n",
      "           5       0.91      0.83      0.87      2162\n",
      "           6       0.95      0.92      0.94      2200\n",
      "\n",
      "    accuracy                           0.87     15120\n",
      "   macro avg       0.87      0.87      0.87     15120\n",
      "weighted avg       0.88      0.87      0.87     15120\n",
      "\n"
     ]
    }
   ],
   "source": [
    "print(classification_report(all_labels, all_predictions))"
   ]
  },
  {
   "cell_type": "code",
   "execution_count": 14,
   "metadata": {},
   "outputs": [
    {
     "name": "stdout",
     "output_type": "stream",
     "text": [
      "[[1324   17   18  706   57   48   24]\n",
      " [  24 2004   28   24   15   41    2]\n",
      " [   9   34 2071    7   45    2    9]\n",
      " [ 148   12   11 1827    7   78   40]\n",
      " [  18    0   26    0 2064    0   18]\n",
      " [  21  167    5  179    0 1786    4]\n",
      " [  32    0   49   73   24    0 2022]]\n"
     ]
    }
   ],
   "source": [
    "print(confusion_matrix(all_labels, all_predictions))"
   ]
  },
  {
   "cell_type": "markdown",
   "metadata": {},
   "source": [
    "Model name."
   ]
  },
  {
   "cell_type": "code",
   "execution_count": 15,
   "metadata": {},
   "outputs": [],
   "source": [
    "model_name = \"model2312082043remote\""
   ]
  },
  {
   "cell_type": "markdown",
   "metadata": {},
   "source": [
    "Save the model."
   ]
  },
  {
   "cell_type": "code",
   "execution_count": 16,
   "metadata": {},
   "outputs": [],
   "source": [
    "torch.save(model.state_dict(), \"../models/\" + model_name)"
   ]
  },
  {
   "cell_type": "markdown",
   "metadata": {},
   "source": [
    "Load the model."
   ]
  },
  {
   "cell_type": "code",
   "execution_count": 17,
   "metadata": {},
   "outputs": [
    {
     "data": {
      "text/plain": [
       "<All keys matched successfully>"
      ]
     },
     "execution_count": 17,
     "metadata": {},
     "output_type": "execute_result"
    }
   ],
   "source": [
    "model = CurrentModel().to(device)\n",
    "model.load_state_dict(torch.load(\"../models/\" + model_name))"
   ]
  }
 ],
 "metadata": {
  "kernelspec": {
   "display_name": "Python 3",
   "language": "python",
   "name": "python3"
  },
  "language_info": {
   "codemirror_mode": {
    "name": "ipython",
    "version": 3
   },
   "file_extension": ".py",
   "mimetype": "text/x-python",
   "name": "python",
   "nbconvert_exporter": "python",
   "pygments_lexer": "ipython3",
   "version": "3.11.5"
  }
 },
 "nbformat": 4,
 "nbformat_minor": 2
}
