{
 "cells": [
  {
   "cell_type": "code",
   "execution_count": 2,
   "metadata": {},
   "outputs": [],
   "source": [
    "%matplotlib widget\n",
    "import torch\n",
    "import torch.nn as nn\n",
    "import torch.optim as optim\n",
    "from torch.utils.data import DataLoader, TensorDataset\n",
    "import numpy as np\n",
    "import pandas as pd\n",
    "import matplotlib.pyplot as plt\n",
    "from sklearn.metrics import accuracy_score, classification_report, confusion_matrix\n",
    "from tqdm import tqdm\n",
    "from models import Net_4_layers_v1 as CurrentModel"
   ]
  },
  {
   "cell_type": "markdown",
   "metadata": {},
   "source": [
    "Import data."
   ]
  },
  {
   "cell_type": "code",
   "execution_count": 3,
   "metadata": {},
   "outputs": [],
   "source": [
    "data_a = np.load(\"../data/dataset_all_H1_bootstrap_O3a.npy\")\n",
    "data_b = np.load(\"../data/dataset_all_H1_bootstrap_O3b.npy\")\n",
    "data_total = np.vstack([data_a, data_b])"
   ]
  },
  {
   "cell_type": "markdown",
   "metadata": {},
   "source": [
    "Refering data."
   ]
  },
  {
   "cell_type": "code",
   "execution_count": 4,
   "metadata": {},
   "outputs": [
    {
     "data": {
      "text/html": [
       "<div>\n",
       "<style scoped>\n",
       "    .dataframe tbody tr th:only-of-type {\n",
       "        vertical-align: middle;\n",
       "    }\n",
       "\n",
       "    .dataframe tbody tr th {\n",
       "        vertical-align: top;\n",
       "    }\n",
       "\n",
       "    .dataframe thead th {\n",
       "        text-align: right;\n",
       "    }\n",
       "</style>\n",
       "<table border=\"1\" class=\"dataframe\">\n",
       "  <thead>\n",
       "    <tr style=\"text-align: right;\">\n",
       "      <th></th>\n",
       "      <th>0</th>\n",
       "      <th>1</th>\n",
       "      <th>2</th>\n",
       "      <th>3</th>\n",
       "      <th>4</th>\n",
       "      <th>5</th>\n",
       "      <th>6</th>\n",
       "    </tr>\n",
       "  </thead>\n",
       "  <tbody>\n",
       "    <tr>\n",
       "      <th>0</th>\n",
       "      <td>9.254420</td>\n",
       "      <td>7.831950</td>\n",
       "      <td>385.520985</td>\n",
       "      <td>43.551575</td>\n",
       "      <td>0.170024</td>\n",
       "      <td>-0.226553</td>\n",
       "      <td>3.0</td>\n",
       "    </tr>\n",
       "    <tr>\n",
       "      <th>1</th>\n",
       "      <td>4.918122</td>\n",
       "      <td>1.049978</td>\n",
       "      <td>244.809516</td>\n",
       "      <td>79.182049</td>\n",
       "      <td>0.563761</td>\n",
       "      <td>0.184612</td>\n",
       "      <td>0.0</td>\n",
       "    </tr>\n",
       "    <tr>\n",
       "      <th>2</th>\n",
       "      <td>5.831387</td>\n",
       "      <td>1.394088</td>\n",
       "      <td>105.503126</td>\n",
       "      <td>11.895160</td>\n",
       "      <td>-0.499879</td>\n",
       "      <td>0.283521</td>\n",
       "      <td>0.0</td>\n",
       "    </tr>\n",
       "    <tr>\n",
       "      <th>3</th>\n",
       "      <td>5.171994</td>\n",
       "      <td>1.100152</td>\n",
       "      <td>72.932770</td>\n",
       "      <td>11.926752</td>\n",
       "      <td>0.750677</td>\n",
       "      <td>-0.290788</td>\n",
       "      <td>3.0</td>\n",
       "    </tr>\n",
       "    <tr>\n",
       "      <th>4</th>\n",
       "      <td>5.270617</td>\n",
       "      <td>1.455858</td>\n",
       "      <td>73.913381</td>\n",
       "      <td>16.359395</td>\n",
       "      <td>0.543106</td>\n",
       "      <td>-0.148996</td>\n",
       "      <td>0.0</td>\n",
       "    </tr>\n",
       "    <tr>\n",
       "      <th>...</th>\n",
       "      <td>...</td>\n",
       "      <td>...</td>\n",
       "      <td>...</td>\n",
       "      <td>...</td>\n",
       "      <td>...</td>\n",
       "      <td>...</td>\n",
       "      <td>...</td>\n",
       "    </tr>\n",
       "    <tr>\n",
       "      <th>75595</th>\n",
       "      <td>23.099025</td>\n",
       "      <td>39.565564</td>\n",
       "      <td>91.711134</td>\n",
       "      <td>9.598615</td>\n",
       "      <td>-0.543590</td>\n",
       "      <td>0.430138</td>\n",
       "      <td>4.0</td>\n",
       "    </tr>\n",
       "    <tr>\n",
       "      <th>75596</th>\n",
       "      <td>18.977332</td>\n",
       "      <td>26.400047</td>\n",
       "      <td>167.938280</td>\n",
       "      <td>36.568601</td>\n",
       "      <td>-0.208704</td>\n",
       "      <td>0.199369</td>\n",
       "      <td>2.0</td>\n",
       "    </tr>\n",
       "    <tr>\n",
       "      <th>75597</th>\n",
       "      <td>45.583568</td>\n",
       "      <td>58.212200</td>\n",
       "      <td>64.404370</td>\n",
       "      <td>34.368289</td>\n",
       "      <td>-0.255531</td>\n",
       "      <td>-0.479915</td>\n",
       "      <td>1.0</td>\n",
       "    </tr>\n",
       "    <tr>\n",
       "      <th>75598</th>\n",
       "      <td>4.319583</td>\n",
       "      <td>0.991927</td>\n",
       "      <td>92.770109</td>\n",
       "      <td>17.860022</td>\n",
       "      <td>-0.136445</td>\n",
       "      <td>0.002160</td>\n",
       "      <td>0.0</td>\n",
       "    </tr>\n",
       "    <tr>\n",
       "      <th>75599</th>\n",
       "      <td>28.724328</td>\n",
       "      <td>68.844743</td>\n",
       "      <td>99.497632</td>\n",
       "      <td>16.704264</td>\n",
       "      <td>-0.258875</td>\n",
       "      <td>0.265112</td>\n",
       "      <td>2.0</td>\n",
       "    </tr>\n",
       "  </tbody>\n",
       "</table>\n",
       "<p>75600 rows × 7 columns</p>\n",
       "</div>"
      ],
      "text/plain": [
       "               0          1           2          3         4         5    6\n",
       "0       9.254420   7.831950  385.520985  43.551575  0.170024 -0.226553  3.0\n",
       "1       4.918122   1.049978  244.809516  79.182049  0.563761  0.184612  0.0\n",
       "2       5.831387   1.394088  105.503126  11.895160 -0.499879  0.283521  0.0\n",
       "3       5.171994   1.100152   72.932770  11.926752  0.750677 -0.290788  3.0\n",
       "4       5.270617   1.455858   73.913381  16.359395  0.543106 -0.148996  0.0\n",
       "...          ...        ...         ...        ...       ...       ...  ...\n",
       "75595  23.099025  39.565564   91.711134   9.598615 -0.543590  0.430138  4.0\n",
       "75596  18.977332  26.400047  167.938280  36.568601 -0.208704  0.199369  2.0\n",
       "75597  45.583568  58.212200   64.404370  34.368289 -0.255531 -0.479915  1.0\n",
       "75598   4.319583   0.991927   92.770109  17.860022 -0.136445  0.002160  0.0\n",
       "75599  28.724328  68.844743   99.497632  16.704264 -0.258875  0.265112  2.0\n",
       "\n",
       "[75600 rows x 7 columns]"
      ]
     },
     "execution_count": 4,
     "metadata": {},
     "output_type": "execute_result"
    }
   ],
   "source": [
    "pd.DataFrame(data_total)"
   ]
  },
  {
   "cell_type": "markdown",
   "metadata": {},
   "source": [
    "Divide data into training set, validating set and testing set."
   ]
  },
  {
   "cell_type": "code",
   "execution_count": 5,
   "metadata": {},
   "outputs": [],
   "source": [
    "data_length = len(data_total)\n",
    "\n",
    "training_set_length = int(data_length * 0.7)\n",
    "validating_set_length = int(data_length * 0.2)\n",
    "testing_set_length = data_length - training_set_length #- validating_set_length\n",
    "\n",
    "training_set = data_total[0:training_set_length, :]\n",
    "validating_set = data_total[training_set_length:training_set_length + validating_set_length, :]\n",
    "testing_set = data_total[training_set_length:, :]"
   ]
  },
  {
   "cell_type": "markdown",
   "metadata": {},
   "source": [
    "Determine the device."
   ]
  },
  {
   "cell_type": "code",
   "execution_count": 6,
   "metadata": {},
   "outputs": [],
   "source": [
    "device = torch.device(\"cuda\" if torch.cuda.is_available() else \"cpu\")"
   ]
  },
  {
   "cell_type": "markdown",
   "metadata": {},
   "source": [
    "Make the data suitable to pytorch."
   ]
  },
  {
   "cell_type": "code",
   "execution_count": 7,
   "metadata": {},
   "outputs": [],
   "source": [
    "input_tensor_training = torch.tensor(training_set[:, 0:6], dtype=torch.float32).to(device)\n",
    "label_tensor_training = torch.tensor(training_set[:, 6], dtype=torch.int64).to(device)\n",
    "\n",
    "input_tensor_validating = torch.tensor(validating_set[:, 0:6], dtype=torch.float32).to(device)\n",
    "label_tensor_validating = torch.tensor(validating_set[:, 6], dtype=torch.int64).to(device)\n",
    "\n",
    "input_tensor_testing = torch.tensor(testing_set[:, 0:6], dtype=torch.float32).to(device)\n",
    "label_tensor_testing = torch.tensor(testing_set[:, 6], dtype=torch.int64).to(device)\n",
    "\n",
    "dataset_training = TensorDataset(input_tensor_training, label_tensor_training)\n",
    "dataset_validating = TensorDataset(input_tensor_validating, label_tensor_validating)\n",
    "dataset_testing = TensorDataset(input_tensor_testing, label_tensor_testing)\n",
    "\n",
    "loader_training = DataLoader(dataset_training, batch_size=32, shuffle=True)\n",
    "loader_validating = DataLoader(dataset_validating, batch_size=32, shuffle=True)\n",
    "loader_testing = DataLoader(dataset_testing, batch_size=32, shuffle=True)"
   ]
  },
  {
   "cell_type": "markdown",
   "metadata": {},
   "source": [
    "Define the model, criterion and optimizer."
   ]
  },
  {
   "cell_type": "code",
   "execution_count": 8,
   "metadata": {},
   "outputs": [],
   "source": [
    "model = CurrentModel().to(device)\n",
    "criterion = nn.CrossEntropyLoss()\n",
    "optimizer = optim.Adam(model.parameters(), lr = 0.00025)"
   ]
  },
  {
   "cell_type": "code",
   "execution_count": 9,
   "metadata": {},
   "outputs": [
    {
     "name": "stderr",
     "output_type": "stream",
     "text": [
      "Training ...: 100%|██████████| 1/1 [00:02<00:00,  2.02s/it]\n"
     ]
    }
   ],
   "source": [
    "import torch\n",
    "\n",
    "# Assuming that you have already defined your model, optimizer, criterion, and data loaders\n",
    "\n",
    "# Your training loop\n",
    "loss_average_list = []\n",
    "accuracy_average_list = []\n",
    "test_loss_average_list = []\n",
    "test_accuracy_average_list = []\n",
    "\n",
    "for epoch in tqdm(range(1), desc=\"Training ...\"):\n",
    "    model.train()  # Set the model to training mode\n",
    "    correct_predictions = 0\n",
    "    total_samples = 0\n",
    "    loss_array = []\n",
    "\n",
    "    for data in loader_training:\n",
    "        inputs, labels = data[0].to(device), data[1].to(device)\n",
    "        optimizer.zero_grad()\n",
    "        outputs = model(inputs)\n",
    "        loss = criterion(outputs, labels)\n",
    "        loss.backward()\n",
    "        optimizer.step()\n",
    "        loss_array.append(loss.item())\n",
    "\n",
    "        _, predicted = torch.max(outputs, 1)\n",
    "        correct_predictions += (predicted == labels).sum().item()\n",
    "        total_samples += labels.size(0)\n",
    "\n",
    "    loss_average = sum(loss_array) / len(loss_array)\n",
    "    accuracy_average = correct_predictions / total_samples\n",
    "    loss_average_list.append(loss_average)\n",
    "    accuracy_average_list.append(accuracy_average)\n",
    "\n",
    "    # Testing loop\n",
    "    model.eval()  # Set the model to evaluation mode\n",
    "    correct_predictions_test = 0\n",
    "    total_samples_test = 0\n",
    "    loss_array_test = []\n",
    "\n",
    "    with torch.no_grad():  # Disable gradient computation during testing\n",
    "        for data in loader_testing:\n",
    "            inputs_test, labels_test = data[0].to(device), data[1].to(device)\n",
    "            outputs_test = model(inputs_test)\n",
    "            loss_test = criterion(outputs_test, labels_test)\n",
    "            loss_array_test.append(loss_test.item())\n",
    "\n",
    "            _, predicted_test = torch.max(outputs_test, 1)\n",
    "            correct_predictions_test += (predicted_test == labels_test).sum().item()\n",
    "            total_samples_test += labels_test.size(0)\n",
    "\n",
    "    loss_average_test = sum(loss_array_test) / len(loss_array_test)\n",
    "    accuracy_average_test = correct_predictions_test / total_samples_test\n",
    "\n",
    "    test_loss_average_list.append(loss_average_test)\n",
    "    test_accuracy_average_list.append(accuracy_average_test)\n"
   ]
  },
  {
   "cell_type": "markdown",
   "metadata": {},
   "source": [
    "Plot the loss and average."
   ]
  },
  {
   "cell_type": "code",
   "execution_count": 10,
   "metadata": {},
   "outputs": [],
   "source": [
    "#with open('outputLoss1000e0.0025.txt', 'w') as file:\n",
    " #   file.write('\\n'.join(map(str, loss_average_list)))\n",
    "    \n",
    "#with open('outputAcc1000e0.0025.txt', 'w') as file:\n",
    "#    file.write('\\n'.join(map(str, accuracy_average_list)))\n",
    "\n",
    "#with open('outputTestLoss1000e0.0025.txt', 'w') as file:\n",
    " #   file.write('\\n'.join(map(str, test_loss_average_list)))\n",
    "    \n",
    "#with open('outputTestAcc1000e0.0025.txt', 'w') as file:\n",
    " #   file.write('\\n'.join(map(str, test_accuracy_average_list)))"
   ]
  },
  {
   "cell_type": "code",
   "execution_count": 11,
   "metadata": {},
   "outputs": [
    {
     "name": "stdout",
     "output_type": "stream",
     "text": [
      "[1.1428312098533095, 0.5895124716553288, 0.87779520803009, 0.6766754850088184]\n"
     ]
    }
   ],
   "source": [
    "values = [loss_average_list[-1],accuracy_average_list[-1],test_loss_average_list[-1],test_accuracy_average_list[-1]]\n",
    "print(values)"
   ]
  },
  {
   "cell_type": "code",
   "execution_count": 12,
   "metadata": {},
   "outputs": [
    {
     "data": {
      "text/plain": [
       "<matplotlib.legend.Legend at 0x2919428d0>"
      ]
     },
     "execution_count": 12,
     "metadata": {},
     "output_type": "execute_result"
    },
    {
     "data": {
      "application/vnd.jupyter.widget-view+json": {
       "model_id": "5beed0f0ec114b0192e8f6bfa60369ee",
       "version_major": 2,
       "version_minor": 0
      },
      "image/png": "[encoded data removed]",
      "text/html": [
       "\n",
       "            <div style=\"display: inline-block;\">\n",
       "                <div class=\"jupyter-widgets widget-label\" style=\"text-align: center;\">\n",
       "                    Figure\n",
       "                </div>\n",
       "                <img src='data:image/png;base64,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' width=640.0/>\n",
       "            </div>\n",
       "        "
      ],
      "text/plain": [
       "Canvas(toolbar=Toolbar(toolitems=[('Home', 'Reset original view', 'home', 'home'), ('Back', 'Back to previous …"
      ]
     },
     "metadata": {},
     "output_type": "display_data"
    }
   ],
   "source": [
    "fig, ax = plt.subplots()\n",
    "ax.plot(loss_average_list, label=\"loss training\")\n",
    "ax.plot(accuracy_average_list, label=\"accuracy training\")\n",
    "ax.plot(test_loss_average_list, label=\"loss test\")\n",
    "ax.plot(test_accuracy_average_list, label=\"acc test\")\n",
    "\n",
    "ax.legend()\n"
   ]
  },
  {
   "cell_type": "markdown",
   "metadata": {},
   "source": [
    "Judge the model."
   ]
  },
  {
   "cell_type": "code",
   "execution_count": 13,
   "metadata": {},
   "outputs": [],
   "source": [
    "model.eval()\n",
    "all_predictions = []\n",
    "all_labels = []"
   ]
  },
  {
   "cell_type": "code",
   "execution_count": 14,
   "metadata": {},
   "outputs": [],
   "source": [
    "with torch.no_grad():\n",
    "    for inputs, labels in loader_training:\n",
    "        inputs, labels = inputs.to(device), labels.to(device)\n",
    "        outputs = model(inputs)\n",
    "        _, predicted = torch.max(outputs.data, 1)\n",
    "        all_predictions.extend(predicted.cpu().numpy())\n",
    "        all_labels.extend(labels.cpu().numpy())"
   ]
  },
  {
   "cell_type": "markdown",
   "metadata": {},
   "source": [
    "Calculate accuracy."
   ]
  },
  {
   "cell_type": "code",
   "execution_count": 15,
   "metadata": {},
   "outputs": [
    {
     "name": "stdout",
     "output_type": "stream",
     "text": [
      "Accuracy: 0.6781746031746032\n"
     ]
    }
   ],
   "source": [
    "accuracy = accuracy_score(all_labels, all_predictions)\n",
    "print(f\"Accuracy: {accuracy}\")"
   ]
  },
  {
   "cell_type": "code",
   "execution_count": 16,
   "metadata": {},
   "outputs": [
    {
     "name": "stdout",
     "output_type": "stream",
     "text": [
      "              precision    recall  f1-score   support\n",
      "\n",
      "           0       0.52      0.42      0.46      7512\n",
      "           1       0.72      0.80      0.76      7563\n",
      "           2       0.85      0.90      0.87      7557\n",
      "           3       0.62      0.58      0.60      7610\n",
      "           4       0.63      0.79      0.71      7572\n",
      "           5       0.74      0.71      0.73      7552\n",
      "           6       0.62      0.55      0.59      7554\n",
      "\n",
      "    accuracy                           0.68     52920\n",
      "   macro avg       0.67      0.68      0.67     52920\n",
      "weighted avg       0.67      0.68      0.67     52920\n",
      "\n"
     ]
    }
   ],
   "source": [
    "print(classification_report(all_labels, all_predictions))"
   ]
  },
  {
   "cell_type": "code",
   "execution_count": 17,
   "metadata": {},
   "outputs": [
    {
     "name": "stdout",
     "output_type": "stream",
     "text": [
      "[[3144  710   86 1642  625  434  871]\n",
      " [ 383 6037   61  111  101  870    0]\n",
      " [  40  214 6768   31  467   37    0]\n",
      " [1312  217   14 4386   94  528 1059]\n",
      " [ 329  343  330    0 6015    0  555]\n",
      " [ 430  722   41  891   55 5365   48]\n",
      " [ 407  152  702    0 2119    0 4174]]\n"
     ]
    }
   ],
   "source": [
    "print(confusion_matrix(all_labels, all_predictions))"
   ]
  },
  {
   "cell_type": "markdown",
   "metadata": {},
   "source": [
    "Model name."
   ]
  },
  {
   "cell_type": "code",
   "execution_count": 18,
   "metadata": {},
   "outputs": [],
   "source": [
    "model_name = \"test\""
   ]
  },
  {
   "cell_type": "markdown",
   "metadata": {},
   "source": [
    "Save the model."
   ]
  },
  {
   "cell_type": "code",
   "execution_count": 19,
   "metadata": {},
   "outputs": [],
   "source": [
    "torch.save(model.state_dict(), \"../src/\" + model_name)"
   ]
  },
  {
   "cell_type": "markdown",
   "metadata": {},
   "source": [
    "Load the model."
   ]
  },
  {
   "cell_type": "code",
   "execution_count": 20,
   "metadata": {},
   "outputs": [
    {
     "data": {
      "text/plain": [
       "<All keys matched successfully>"
      ]
     },
     "execution_count": 20,
     "metadata": {},
     "output_type": "execute_result"
    }
   ],
   "source": [
    "model = CurrentModel().to(device)\n",
    "model.load_state_dict(torch.load(\"../src/\" + model_name))"
   ]
  }
 ],
 "metadata": {
  "kernelspec": {
   "display_name": "Python 3",
   "language": "python",
   "name": "python3"
  },
  "language_info": {
   "codemirror_mode": {
    "name": "ipython",
    "version": 3
   },
   "file_extension": ".py",
   "mimetype": "text/x-python",
   "name": "python",
   "nbconvert_exporter": "python",
   "pygments_lexer": "ipython3",
   "version": "3.11.5"
  }
 },
 "nbformat": 4,
 "nbformat_minor": 2
}
