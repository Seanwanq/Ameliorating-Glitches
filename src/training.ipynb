{
 "cells": [
  {
   "cell_type": "code",
   "execution_count": 23,
   "metadata": {},
   "outputs": [],
   "source": [
    "%matplotlib widget\n",
    "import torch\n",
    "import torch.nn as nn\n",
    "import torch.optim as optim\n",
    "from torch.utils.data import DataLoader, TensorDataset\n",
    "import numpy as np\n",
    "import pandas as pd\n",
    "import matplotlib.pyplot as plt\n",
    "from sklearn.metrics import accuracy_score, classification_report, confusion_matrix\n",
    "from tqdm import tqdm\n",
    "from models import Net_4_layers_v1 as CurrentModel"
   ]
  },
  {
   "cell_type": "markdown",
   "metadata": {},
   "source": [
    "Import data."
   ]
  },
  {
   "cell_type": "code",
   "execution_count": 2,
   "metadata": {},
   "outputs": [],
   "source": [
    "data_a = np.load(\"../data/dataset_all_H1_bootstrap_O3a.npy\")\n",
    "data_b = np.load(\"../data/dataset_all_H1_bootstrap_O3b.npy\")\n",
    "data_total = np.vstack([data_a, data_b])"
   ]
  },
  {
   "cell_type": "markdown",
   "metadata": {},
   "source": [
    "Refering data."
   ]
  },
  {
   "cell_type": "code",
   "execution_count": 3,
   "metadata": {},
   "outputs": [
    {
     "data": {
      "text/html": [
       "<div>\n",
       "<style scoped>\n",
       "    .dataframe tbody tr th:only-of-type {\n",
       "        vertical-align: middle;\n",
       "    }\n",
       "\n",
       "    .dataframe tbody tr th {\n",
       "        vertical-align: top;\n",
       "    }\n",
       "\n",
       "    .dataframe thead th {\n",
       "        text-align: right;\n",
       "    }\n",
       "</style>\n",
       "<table border=\"1\" class=\"dataframe\">\n",
       "  <thead>\n",
       "    <tr style=\"text-align: right;\">\n",
       "      <th></th>\n",
       "      <th>0</th>\n",
       "      <th>1</th>\n",
       "      <th>2</th>\n",
       "      <th>3</th>\n",
       "      <th>4</th>\n",
       "      <th>5</th>\n",
       "      <th>6</th>\n",
       "    </tr>\n",
       "  </thead>\n",
       "  <tbody>\n",
       "    <tr>\n",
       "      <th>0</th>\n",
       "      <td>9.254420</td>\n",
       "      <td>7.831950</td>\n",
       "      <td>385.520985</td>\n",
       "      <td>43.551575</td>\n",
       "      <td>0.170024</td>\n",
       "      <td>-0.226553</td>\n",
       "      <td>3.0</td>\n",
       "    </tr>\n",
       "    <tr>\n",
       "      <th>1</th>\n",
       "      <td>4.918122</td>\n",
       "      <td>1.049978</td>\n",
       "      <td>244.809516</td>\n",
       "      <td>79.182049</td>\n",
       "      <td>0.563761</td>\n",
       "      <td>0.184612</td>\n",
       "      <td>0.0</td>\n",
       "    </tr>\n",
       "    <tr>\n",
       "      <th>2</th>\n",
       "      <td>5.831387</td>\n",
       "      <td>1.394088</td>\n",
       "      <td>105.503126</td>\n",
       "      <td>11.895160</td>\n",
       "      <td>-0.499879</td>\n",
       "      <td>0.283521</td>\n",
       "      <td>0.0</td>\n",
       "    </tr>\n",
       "    <tr>\n",
       "      <th>3</th>\n",
       "      <td>5.171994</td>\n",
       "      <td>1.100152</td>\n",
       "      <td>72.932770</td>\n",
       "      <td>11.926752</td>\n",
       "      <td>0.750677</td>\n",
       "      <td>-0.290788</td>\n",
       "      <td>3.0</td>\n",
       "    </tr>\n",
       "    <tr>\n",
       "      <th>4</th>\n",
       "      <td>5.270617</td>\n",
       "      <td>1.455858</td>\n",
       "      <td>73.913381</td>\n",
       "      <td>16.359395</td>\n",
       "      <td>0.543106</td>\n",
       "      <td>-0.148996</td>\n",
       "      <td>0.0</td>\n",
       "    </tr>\n",
       "    <tr>\n",
       "      <th>...</th>\n",
       "      <td>...</td>\n",
       "      <td>...</td>\n",
       "      <td>...</td>\n",
       "      <td>...</td>\n",
       "      <td>...</td>\n",
       "      <td>...</td>\n",
       "      <td>...</td>\n",
       "    </tr>\n",
       "    <tr>\n",
       "      <th>75595</th>\n",
       "      <td>23.099025</td>\n",
       "      <td>39.565564</td>\n",
       "      <td>91.711134</td>\n",
       "      <td>9.598615</td>\n",
       "      <td>-0.543590</td>\n",
       "      <td>0.430138</td>\n",
       "      <td>4.0</td>\n",
       "    </tr>\n",
       "    <tr>\n",
       "      <th>75596</th>\n",
       "      <td>18.977332</td>\n",
       "      <td>26.400047</td>\n",
       "      <td>167.938280</td>\n",
       "      <td>36.568601</td>\n",
       "      <td>-0.208704</td>\n",
       "      <td>0.199369</td>\n",
       "      <td>2.0</td>\n",
       "    </tr>\n",
       "    <tr>\n",
       "      <th>75597</th>\n",
       "      <td>45.583568</td>\n",
       "      <td>58.212200</td>\n",
       "      <td>64.404370</td>\n",
       "      <td>34.368289</td>\n",
       "      <td>-0.255531</td>\n",
       "      <td>-0.479915</td>\n",
       "      <td>1.0</td>\n",
       "    </tr>\n",
       "    <tr>\n",
       "      <th>75598</th>\n",
       "      <td>4.319583</td>\n",
       "      <td>0.991927</td>\n",
       "      <td>92.770109</td>\n",
       "      <td>17.860022</td>\n",
       "      <td>-0.136445</td>\n",
       "      <td>0.002160</td>\n",
       "      <td>0.0</td>\n",
       "    </tr>\n",
       "    <tr>\n",
       "      <th>75599</th>\n",
       "      <td>28.724328</td>\n",
       "      <td>68.844743</td>\n",
       "      <td>99.497632</td>\n",
       "      <td>16.704264</td>\n",
       "      <td>-0.258875</td>\n",
       "      <td>0.265112</td>\n",
       "      <td>2.0</td>\n",
       "    </tr>\n",
       "  </tbody>\n",
       "</table>\n",
       "<p>75600 rows × 7 columns</p>\n",
       "</div>"
      ],
      "text/plain": [
       "               0          1           2          3         4         5    6\n",
       "0       9.254420   7.831950  385.520985  43.551575  0.170024 -0.226553  3.0\n",
       "1       4.918122   1.049978  244.809516  79.182049  0.563761  0.184612  0.0\n",
       "2       5.831387   1.394088  105.503126  11.895160 -0.499879  0.283521  0.0\n",
       "3       5.171994   1.100152   72.932770  11.926752  0.750677 -0.290788  3.0\n",
       "4       5.270617   1.455858   73.913381  16.359395  0.543106 -0.148996  0.0\n",
       "...          ...        ...         ...        ...       ...       ...  ...\n",
       "75595  23.099025  39.565564   91.711134   9.598615 -0.543590  0.430138  4.0\n",
       "75596  18.977332  26.400047  167.938280  36.568601 -0.208704  0.199369  2.0\n",
       "75597  45.583568  58.212200   64.404370  34.368289 -0.255531 -0.479915  1.0\n",
       "75598   4.319583   0.991927   92.770109  17.860022 -0.136445  0.002160  0.0\n",
       "75599  28.724328  68.844743   99.497632  16.704264 -0.258875  0.265112  2.0\n",
       "\n",
       "[75600 rows x 7 columns]"
      ]
     },
     "execution_count": 3,
     "metadata": {},
     "output_type": "execute_result"
    }
   ],
   "source": [
    "pd.DataFrame(data_total)"
   ]
  },
  {
   "cell_type": "markdown",
   "metadata": {},
   "source": [
    "Divide data into training set, validating set and testing set."
   ]
  },
  {
   "cell_type": "code",
   "execution_count": 4,
   "metadata": {},
   "outputs": [],
   "source": [
    "data_length = len(data_total)\n",
    "\n",
    "training_set_length = int(data_length * 0.7)\n",
    "validating_set_length = int(data_length * 0.2)\n",
    "testing_set_length = data_length - training_set_length - validating_set_length\n",
    "\n",
    "training_set = data_total[0:training_set_length, :]\n",
    "validating_set = data_total[training_set_length:training_set_length + validating_set_length, :]\n",
    "testing_set = data_total[training_set_length + validating_set_length:, :]"
   ]
  },
  {
   "cell_type": "markdown",
   "metadata": {},
   "source": [
    "Determine the device."
   ]
  },
  {
   "cell_type": "code",
   "execution_count": 5,
   "metadata": {},
   "outputs": [],
   "source": [
    "device = torch.device(\"cuda\" if torch.cuda.is_available() else \"cpu\")"
   ]
  },
  {
   "cell_type": "markdown",
   "metadata": {},
   "source": [
    "Make the data suitable to pytorch."
   ]
  },
  {
   "cell_type": "code",
   "execution_count": 6,
   "metadata": {},
   "outputs": [],
   "source": [
    "input_tensor_training = torch.tensor(training_set[:, 0:6], dtype=torch.float32).to(device)\n",
    "label_tensor_training = torch.tensor(training_set[:, 6], dtype=torch.int64).to(device)\n",
    "\n",
    "input_tensor_validating = torch.tensor(validating_set[:, 0:6], dtype=torch.float32).to(device)\n",
    "label_tensor_validating = torch.tensor(validating_set[:, 6], dtype=torch.int64).to(device)\n",
    "\n",
    "input_tensor_testing = torch.tensor(testing_set[:, 0:6], dtype=torch.float32).to(device)\n",
    "label_tensor_testing = torch.tensor(testing_set[:, 6], dtype=torch.int64).to(device)\n",
    "\n",
    "dataset_training = TensorDataset(input_tensor_training, label_tensor_training)\n",
    "dataset_validating = TensorDataset(input_tensor_validating, label_tensor_validating)\n",
    "dataset_testing = TensorDataset(input_tensor_testing, label_tensor_testing)\n",
    "\n",
    "loader_training = DataLoader(dataset_training, batch_size=32, shuffle=True)\n",
    "loader_validating = DataLoader(dataset_validating, batch_size=32, shuffle=True)\n",
    "loader_testing = DataLoader(dataset_testing, batch_size=32, shuffle=True)"
   ]
  },
  {
   "cell_type": "markdown",
   "metadata": {},
   "source": [
    "Define the model, criterion and optimizer."
   ]
  },
  {
   "cell_type": "code",
   "execution_count": 24,
   "metadata": {},
   "outputs": [],
   "source": [
    "model = CurrentModel().to(device)\n",
    "criterion = nn.CrossEntropyLoss()\n",
    "optimizer = optim.Adam(model.parameters(), lr = 0.002)"
   ]
  },
  {
   "cell_type": "code",
   "execution_count": 9,
   "metadata": {},
   "outputs": [
    {
     "name": "stderr",
     "output_type": "stream",
     "text": [
      "Training ...: 100%|██████████| 10/10 [00:33<00:00,  3.38s/it]\n"
     ]
    }
   ],
   "source": [
    "loss_average_list = []\n",
    "accuracy_average_list = []\n",
    "\n",
    "for epoch in tqdm(range(10), desc=\"Training ...\"):\n",
    "    correct_predictions = 0\n",
    "    total_samples = 0\n",
    "    loss_array = []\n",
    "    for data in loader_training:\n",
    "        inputs, labels = data[0].to(device), data[1].to(device)\n",
    "        optimizer.zero_grad()\n",
    "        outputs = model(inputs)\n",
    "        loss = criterion(outputs, labels)\n",
    "        loss.backward()\n",
    "        optimizer.step()\n",
    "        loss_array.append(loss.item())\n",
    "        loss_average = sum(loss_array)/len(loss_array)\n",
    "        \n",
    "        _, predicted = torch.max(outputs, 1)\n",
    "        correct_predictions += (predicted == labels).sum().item()\n",
    "        total_samples += labels.size(0)\n",
    "        pass\n",
    "    loss_average_list.append(loss_average)\n",
    "    \n",
    "    accuracy_average = correct_predictions / total_samples\n",
    "    accuracy_average_list.append(accuracy_average)\n"
   ]
  },
  {
   "cell_type": "markdown",
   "metadata": {},
   "source": [
    "Plot the loss and average."
   ]
  },
  {
   "cell_type": "code",
   "execution_count": 11,
   "metadata": {},
   "outputs": [
    {
     "data": {
      "text/plain": [
       "[<matplotlib.lines.Line2D at 0x7f446d7b58e0>]"
      ]
     },
     "execution_count": 11,
     "metadata": {},
     "output_type": "execute_result"
    },
    {
     "data": {
      "application/vnd.jupyter.widget-view+json": {
       "model_id": "a7194999988042ecaed36082af7a7a0c",
       "version_major": 2,
       "version_minor": 0
      },
      "image/png": "[encoded data removed]",
      "text/html": [
       "\n",
       "            <div style=\"display: inline-block;\">\n",
       "                <div class=\"jupyter-widgets widget-label\" style=\"text-align: center;\">\n",
       "                    Figure\n",
       "                </div>\n",
       "                <img src='data:image/png;base64,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' width=640.0/>\n",
       "            </div>\n",
       "        "
      ],
      "text/plain": [
       "Canvas(toolbar=Toolbar(toolitems=[('Home', 'Reset original view', 'home', 'home'), ('Back', 'Back to previous …"
      ]
     },
     "metadata": {},
     "output_type": "display_data"
    }
   ],
   "source": [
    "fig, ax = plt.subplots()\n",
    "ax.plot(loss_average_list)\n",
    "ax.plot(accuracy_average_list)"
   ]
  },
  {
   "cell_type": "markdown",
   "metadata": {},
   "source": [
    "Judge the model."
   ]
  },
  {
   "cell_type": "code",
   "execution_count": 12,
   "metadata": {},
   "outputs": [],
   "source": [
    "model.eval()\n",
    "all_predictions = []\n",
    "all_labels = []"
   ]
  },
  {
   "cell_type": "code",
   "execution_count": 13,
   "metadata": {},
   "outputs": [],
   "source": [
    "with torch.no_grad():\n",
    "    for inputs, labels in loader_validating:\n",
    "        inputs, labels = inputs.to(device), labels.to(device)\n",
    "        outputs = model(inputs)\n",
    "        _, predicted = torch.max(outputs.data, 1)\n",
    "        all_predictions.extend(predicted.cpu().numpy())\n",
    "        all_labels.extend(labels.cpu().numpy())"
   ]
  },
  {
   "cell_type": "markdown",
   "metadata": {},
   "source": [
    "Calculate accuracy."
   ]
  },
  {
   "cell_type": "code",
   "execution_count": 14,
   "metadata": {},
   "outputs": [
    {
     "name": "stdout",
     "output_type": "stream",
     "text": [
      "Accuracy: 0.8167989417989417\n"
     ]
    }
   ],
   "source": [
    "accuracy = accuracy_score(all_labels, all_predictions)\n",
    "print(f\"Accuracy: {accuracy}\")"
   ]
  },
  {
   "cell_type": "code",
   "execution_count": 16,
   "metadata": {},
   "outputs": [
    {
     "name": "stdout",
     "output_type": "stream",
     "text": [
      "              precision    recall  f1-score   support\n",
      "\n",
      "           0       0.77      0.51      0.61      2194\n",
      "           1       0.88      0.88      0.88      2138\n",
      "           2       0.93      0.88      0.90      2177\n",
      "           3       0.63      0.86      0.73      2123\n",
      "           4       0.87      0.90      0.88      2126\n",
      "           5       0.87      0.76      0.82      2162\n",
      "           6       0.82      0.93      0.87      2200\n",
      "\n",
      "    accuracy                           0.82     15120\n",
      "   macro avg       0.83      0.82      0.81     15120\n",
      "weighted avg       0.83      0.82      0.81     15120\n",
      "\n"
     ]
    }
   ],
   "source": [
    "print(classification_report(all_labels, all_predictions))"
   ]
  },
  {
   "cell_type": "code",
   "execution_count": 17,
   "metadata": {},
   "outputs": [
    {
     "name": "stdout",
     "output_type": "stream",
     "text": [
      "[[1115   23   16  745  108   44  143]\n",
      " [  59 1871   26   28   24  122    8]\n",
      " [   8   43 1920    5  104   12   85]\n",
      " [ 150   15    2 1828    8   63   57]\n",
      " [  48    3   31    0 1912    0  132]\n",
      " [  62  180    5  245    5 1653   12]\n",
      " [   0    0   70   37   42    0 2051]]\n"
     ]
    }
   ],
   "source": [
    "print(confusion_matrix(all_labels, all_predictions))"
   ]
  },
  {
   "cell_type": "markdown",
   "metadata": {},
   "source": [
    "Model name."
   ]
  },
  {
   "cell_type": "code",
   "execution_count": 26,
   "metadata": {},
   "outputs": [],
   "source": [
    "model_name = \"model2312082043remote\""
   ]
  },
  {
   "cell_type": "markdown",
   "metadata": {},
   "source": [
    "Save the model."
   ]
  },
  {
   "cell_type": "code",
   "execution_count": 21,
   "metadata": {},
   "outputs": [],
   "source": [
    "torch.save(model.state_dict(), \"../models/\" + model_name)"
   ]
  },
  {
   "cell_type": "markdown",
   "metadata": {},
   "source": [
    "Load the model."
   ]
  },
  {
   "cell_type": "code",
   "execution_count": 27,
   "metadata": {},
   "outputs": [
    {
     "data": {
      "text/plain": [
       "<All keys matched successfully>"
      ]
     },
     "execution_count": 27,
     "metadata": {},
     "output_type": "execute_result"
    }
   ],
   "source": [
    "model = CurrentModel().to(device)\n",
    "model.load_state_dict(torch.load(\"../models/\" + model_name))"
   ]
  }
 ],
 "metadata": {
  "kernelspec": {
   "display_name": "Python 3",
   "language": "python",
   "name": "python3"
  },
  "language_info": {
   "codemirror_mode": {
    "name": "ipython",
    "version": 3
   },
   "file_extension": ".py",
   "mimetype": "text/x-python",
   "name": "python",
   "nbconvert_exporter": "python",
   "pygments_lexer": "ipython3",
   "version": "3.9.18"
  }
 },
 "nbformat": 4,
 "nbformat_minor": 2
}
